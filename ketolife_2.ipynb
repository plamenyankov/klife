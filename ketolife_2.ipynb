{
 "cells": [
  {
   "cell_type": "markdown",
   "metadata": {},
   "source": []
  },
  {
   "cell_type": "code",
   "execution_count": 39,
   "metadata": {},
   "outputs": [],
   "source": [
    "import pandas as pd\n",
    "import numpy as np\n",
    "import requests\n",
    "from bs4 import BeautifulSoup"
   ]
  },
  {
   "cell_type": "code",
   "execution_count": 13,
   "metadata": {},
   "outputs": [],
   "source": [
    "html = requests.get(\"https://www.ruled.me/keto-buffalo-chicken-bowl/\").content\n",
    "soup = BeautifulSoup(html, 'html.parser')\n",
    "table = soup.find_all('table')"
   ]
  },
  {
   "cell_type": "code",
   "execution_count": 14,
   "metadata": {},
   "outputs": [],
   "source": [
    "tds = table[0].find_all('td')"
   ]
  },
  {
   "cell_type": "code",
   "execution_count": 37,
   "metadata": {},
   "outputs": [
    {
     "data": {
      "text/html": [
       "<div>\n",
       "<style scoped>\n",
       "    .dataframe tbody tr th:only-of-type {\n",
       "        vertical-align: middle;\n",
       "    }\n",
       "\n",
       "    .dataframe tbody tr th {\n",
       "        vertical-align: top;\n",
       "    }\n",
       "\n",
       "    .dataframe thead th {\n",
       "        text-align: right;\n",
       "    }\n",
       "</style>\n",
       "<table border=\"1\" class=\"dataframe\">\n",
       "  <thead>\n",
       "    <tr style=\"text-align: right;\">\n",
       "      <th></th>\n",
       "      <th>NUTRITION</th>\n",
       "      <th>CALORIES</th>\n",
       "      <th>FAT</th>\n",
       "      <th>CARBS</th>\n",
       "      <th>FIBER</th>\n",
       "      <th>NET CARBS</th>\n",
       "      <th>PROTEIN</th>\n",
       "    </tr>\n",
       "  </thead>\n",
       "  <tbody>\n",
       "  </tbody>\n",
       "</table>\n",
       "</div>"
      ],
      "text/plain": [
       "Empty DataFrame\n",
       "Columns: [NUTRITION, CALORIES, FAT, CARBS, FIBER, NET CARBS, PROTEIN]\n",
       "Index: []"
      ]
     },
     "execution_count": 37,
     "metadata": {},
     "output_type": "execute_result"
    }
   ],
   "source": [
    "df = pd.DataFrame(tds)\n",
    "df2 = pd.DataFrame(columns=df.iloc[:7,:1][0].tolist())"
   ]
  },
  {
   "cell_type": "code",
   "execution_count": 45,
   "metadata": {},
   "outputs": [],
   "source": [
    "arr = list()\n",
    "for t in tds:\n",
    "    arr.append(t.text)"
   ]
  },
  {
   "cell_type": "code",
   "execution_count": 50,
   "metadata": {},
   "outputs": [],
   "source": [
    "arr = np.array(arr)\n",
    "df3 = pd.DataFrame(np.reshape(arr,(int(len(arr)/7), 7)))"
   ]
  },
  {
   "cell_type": "code",
   "execution_count": 69,
   "metadata": {},
   "outputs": [
    {
     "data": {
      "text/html": [
       "<div>\n",
       "<style scoped>\n",
       "    .dataframe tbody tr th:only-of-type {\n",
       "        vertical-align: middle;\n",
       "    }\n",
       "\n",
       "    .dataframe tbody tr th {\n",
       "        vertical-align: top;\n",
       "    }\n",
       "\n",
       "    .dataframe thead th {\n",
       "        text-align: right;\n",
       "    }\n",
       "</style>\n",
       "<table border=\"1\" class=\"dataframe\">\n",
       "  <thead>\n",
       "    <tr style=\"text-align: right;\">\n",
       "      <th></th>\n",
       "      <th>NUTRITION</th>\n",
       "      <th>CALORIES</th>\n",
       "      <th>FAT</th>\n",
       "      <th>CARBS</th>\n",
       "      <th>FIBER</th>\n",
       "      <th>NET CARBS</th>\n",
       "      <th>PROTEIN</th>\n",
       "    </tr>\n",
       "  </thead>\n",
       "  <tbody>\n",
       "    <tr>\n",
       "      <th>1</th>\n",
       "      <td>12.00 ounce cooked chicken</td>\n",
       "      <td>748</td>\n",
       "      <td>44.2</td>\n",
       "      <td>0</td>\n",
       "      <td>0</td>\n",
       "      <td>0</td>\n",
       "      <td>78.2</td>\n",
       "    </tr>\n",
       "    <tr>\n",
       "      <th>2</th>\n",
       "      <td>3.00 tablespoon butter</td>\n",
       "      <td>305</td>\n",
       "      <td>34.5</td>\n",
       "      <td>0</td>\n",
       "      <td>0</td>\n",
       "      <td>0</td>\n",
       "      <td>0.4</td>\n",
       "    </tr>\n",
       "    <tr>\n",
       "      <th>3</th>\n",
       "      <td>0.25 cup hot sauce</td>\n",
       "      <td>6</td>\n",
       "      <td>0.2</td>\n",
       "      <td>1</td>\n",
       "      <td>0.2</td>\n",
       "      <td>0.8</td>\n",
       "      <td>0.3</td>\n",
       "    </tr>\n",
       "    <tr>\n",
       "      <th>4</th>\n",
       "      <td>12.00 ounce romaine lettuce</td>\n",
       "      <td>58</td>\n",
       "      <td>1</td>\n",
       "      <td>11.2</td>\n",
       "      <td>7.1</td>\n",
       "      <td>4.1</td>\n",
       "      <td>4.2</td>\n",
       "    </tr>\n",
       "    <tr>\n",
       "      <th>5</th>\n",
       "      <td>3.00 ounce cooked bacon</td>\n",
       "      <td>466</td>\n",
       "      <td>36.8</td>\n",
       "      <td>1.2</td>\n",
       "      <td>0</td>\n",
       "      <td>1.2</td>\n",
       "      <td>30.4</td>\n",
       "    </tr>\n",
       "    <tr>\n",
       "      <th>6</th>\n",
       "      <td>0.25 cup banana peppers</td>\n",
       "      <td>8</td>\n",
       "      <td>0.2</td>\n",
       "      <td>1.7</td>\n",
       "      <td>1.1</td>\n",
       "      <td>0.6</td>\n",
       "      <td>0.5</td>\n",
       "    </tr>\n",
       "    <tr>\n",
       "      <th>7</th>\n",
       "      <td>4.00 medium green onion</td>\n",
       "      <td>19</td>\n",
       "      <td>0.1</td>\n",
       "      <td>4.4</td>\n",
       "      <td>1.6</td>\n",
       "      <td>2.8</td>\n",
       "      <td>1.1</td>\n",
       "    </tr>\n",
       "    <tr>\n",
       "      <th>8</th>\n",
       "      <td>3.00 ounce cherry tomatoes</td>\n",
       "      <td>15</td>\n",
       "      <td>0.2</td>\n",
       "      <td>3.3</td>\n",
       "      <td>1</td>\n",
       "      <td>2.3</td>\n",
       "      <td>0.8</td>\n",
       "    </tr>\n",
       "    <tr>\n",
       "      <th>9</th>\n",
       "      <td>1.00 medium avocado</td>\n",
       "      <td>301</td>\n",
       "      <td>27.7</td>\n",
       "      <td>15.6</td>\n",
       "      <td>12.2</td>\n",
       "      <td>3.3</td>\n",
       "      <td>3.5</td>\n",
       "    </tr>\n",
       "    <tr>\n",
       "      <th>10</th>\n",
       "      <td>6.00 tablespoon ranch dressing</td>\n",
       "      <td>387</td>\n",
       "      <td>40.1</td>\n",
       "      <td>5.3</td>\n",
       "      <td>0</td>\n",
       "      <td>5.3</td>\n",
       "      <td>1.2</td>\n",
       "    </tr>\n",
       "    <tr>\n",
       "      <th>11</th>\n",
       "      <td>Totals</td>\n",
       "      <td>2314</td>\n",
       "      <td>185.1</td>\n",
       "      <td>43.6</td>\n",
       "      <td>23.2</td>\n",
       "      <td>20.4</td>\n",
       "      <td>120.6</td>\n",
       "    </tr>\n",
       "    <tr>\n",
       "      <th>12</th>\n",
       "      <td>Per Serving (/3)</td>\n",
       "      <td>771</td>\n",
       "      <td>61.7</td>\n",
       "      <td>14.5</td>\n",
       "      <td>7.7</td>\n",
       "      <td>6.8</td>\n",
       "      <td>40.2</td>\n",
       "    </tr>\n",
       "  </tbody>\n",
       "</table>\n",
       "</div>"
      ],
      "text/plain": [
       "                         NUTRITION CALORIES    FAT CARBS FIBER NET CARBS  \\\n",
       "1       12.00 ounce cooked chicken      748   44.2     0     0         0   \n",
       "2           3.00 tablespoon butter      305   34.5     0     0         0   \n",
       "3               0.25 cup hot sauce        6    0.2     1   0.2       0.8   \n",
       "4      12.00 ounce romaine lettuce       58      1  11.2   7.1       4.1   \n",
       "5          3.00 ounce cooked bacon      466   36.8   1.2     0       1.2   \n",
       "6          0.25 cup banana peppers        8    0.2   1.7   1.1       0.6   \n",
       "7          4.00 medium green onion       19    0.1   4.4   1.6       2.8   \n",
       "8       3.00 ounce cherry tomatoes       15    0.2   3.3     1       2.3   \n",
       "9              1.00 medium avocado      301   27.7  15.6  12.2       3.3   \n",
       "10  6.00 tablespoon ranch dressing      387   40.1   5.3     0       5.3   \n",
       "11                          Totals     2314  185.1  43.6  23.2      20.4   \n",
       "12                Per Serving (/3)      771   61.7  14.5   7.7       6.8   \n",
       "\n",
       "   PROTEIN  \n",
       "1     78.2  \n",
       "2      0.4  \n",
       "3      0.3  \n",
       "4      4.2  \n",
       "5     30.4  \n",
       "6      0.5  \n",
       "7      1.1  \n",
       "8      0.8  \n",
       "9      3.5  \n",
       "10     1.2  \n",
       "11   120.6  \n",
       "12    40.2  "
      ]
     },
     "execution_count": 69,
     "metadata": {},
     "output_type": "execute_result"
    }
   ],
   "source": [
    "df3.columns = df3.iloc[0,:].tolist()\n",
    "df3.drop(df3.index[0])"
   ]
  },
  {
   "cell_type": "code",
   "execution_count": 70,
   "metadata": {},
   "outputs": [],
   "source": [
    "from deep_translator import GoogleTranslator"
   ]
  },
  {
   "cell_type": "code",
   "execution_count": 76,
   "metadata": {},
   "outputs": [],
   "source": [
    "def translationFromEntoBg(arr):\n",
    "    translated_arr = []\n",
    "    for sentance in arr:     \n",
    "        translated_arr.append(GoogleTranslator(source='auto', target='bg').translate(sentance))\n",
    "    return translated_arr"
   ]
  },
  {
   "cell_type": "code",
   "execution_count": 96,
   "metadata": {},
   "outputs": [],
   "source": [
    "sent = [\n",
    "\"The chicken also has some nice heat, with the inclusion of hot sauce. Feel free to use any type you’d like (sriracha is a great choice).\" ,\n",
    "\n",
    "\"Chicken is high in protein and also contains many essential vitamins like iron, zinc, vitamin B6, and vitamin B12 which help keep us healthy and thriving!\",\n",
    "\n",
    "\"Getting enough protein is vital for keeping our muscles healthy and making sure our body is repairing the way it should. A protein-rich diet can also assist with weight loss since protein promotes feelings of fullness while also helping to maintain lean body mass and promote muscle growth.\",\n",
    "\n",
    "\"This keto buffalo chicken bowl also contains one medium avocado. Apart from adding a creamy element to this bowl, avocados are incredibly nutritious and can even lower blood pressure and protect against heart disease! \",\n",
    "\n",
    "\"Avocados are also high in fat. Don’t worry; the fat in avocados isn’t the same as fried or processed food. Over half of the fat found in this fruit is monounsaturated fatty acids, which are super healthy. They’re also a great source of vitamins and minerals.\",\n",
    "\n",
    "\"This dish can be pre-made ahead of time for easy consumption at work, school, or anywhere on the go. Cut up your veggies, fry up some bacon, grab some leftover chicken, and drizzle on some ranch before assembling it anytime you’d like. Super easy!\"\n",
    "]\n",
    "\n",
    "translated = translationFromEntoBg(df3[\"NUTRITION\"].tolist())\n",
    "\n",
    "\n"
   ]
  },
  {
   "cell_type": "code",
   "execution_count": 97,
   "metadata": {},
   "outputs": [
    {
     "data": {
      "text/plain": [
       "['ХРАНЕНИЕ',\n",
       " '12,00 унции варено пиле',\n",
       " '3,00 супени лъжици масло',\n",
       " '0,25 чаша лют сос',\n",
       " '12,00 унции ромен салата',\n",
       " '3,00 унции варен бекон',\n",
       " '0,25 чаша бананови чушки',\n",
       " '4.00 среден зелен лук',\n",
       " '3,00 унции чери домати',\n",
       " '1,00 средно авокадо',\n",
       " '6,00 супени лъжици ранчо дресинг',\n",
       " 'Общо',\n",
       " 'На порция (/3)']"
      ]
     },
     "execution_count": 97,
     "metadata": {},
     "output_type": "execute_result"
    }
   ],
   "source": [
    "translated\n",
    "# df3[\"NUTRITION\"].tolist()"
   ]
  },
  {
   "cell_type": "code",
   "execution_count": null,
   "metadata": {},
   "outputs": [],
   "source": []
  }
 ],
 "metadata": {
  "kernelspec": {
   "display_name": "Python 3",
   "language": "python",
   "name": "python3"
  },
  "language_info": {
   "codemirror_mode": {
    "name": "ipython",
    "version": 3
   },
   "file_extension": ".py",
   "mimetype": "text/x-python",
   "name": "python",
   "nbconvert_exporter": "python",
   "pygments_lexer": "ipython3",
   "version": "3.8.5"
  }
 },
 "nbformat": 4,
 "nbformat_minor": 4
}
